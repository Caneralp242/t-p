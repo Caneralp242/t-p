{
  "nbformat": 4,
  "nbformat_minor": 0,
  "metadata": {
    "colab": {
      "name": "fruit.ipynb",
      "provenance": []
    },
    "kernelspec": {
      "name": "python3",
      "display_name": "Python 3"
    },
    "language_info": {
      "name": "python"
    }
  },
  "cells": [
    {
      "cell_type": "code",
      "source": [
        "from google.colab import drive\n",
        "drive.mount(\"/gdrive\")\n",
        "%cd /gdrive"
      ],
      "metadata": {
        "id": "imYcnKuiB0UZ"
      },
      "execution_count": null,
      "outputs": []
    },
    {
      "cell_type": "code",
      "source": [
        "import os \n",
        "import numpy as np\n",
        "import matplotlib.pyplot as plt\n",
        "import cv2\n"
      ],
      "metadata": {
        "id": "zFdwx7kiCH6R"
      },
      "execution_count": null,
      "outputs": []
    },
    {
      "cell_type": "code",
      "source": [
        "os.chdir(\"/content/drive/MyDrive/fruit/config\")\n",
        "!ls"
      ],
      "metadata": {
        "id": "m95A8QzsB3yP"
      },
      "execution_count": null,
      "outputs": []
    },
    {
      "cell_type": "code",
      "source": [
        "data=\"/content/drive/MyDrive/fruit/train/train\"\n",
        "category=[\"Apple Braeburn\",\"Apple Granny Smith\",\"Apricot\",\"Avocado\",\"Banana\",\"Cantaloupe\",\"Cherry\",\"Clementine\",\"Corn\",\"Kiwi\",\"Lemon\",\"Onion White\",\n",
        "          \"Orange\",\"Peach\",\"Pear\",\"Pepper Green\",\"Pepper Red\",\"Pineapple\",\"Plum\",\"Pomegranate\",\"Potato Red\",\"Strawberry\",\"Tomato\",\"Watermelon\"]\n",
        "\n"
      ],
      "metadata": {
        "id": "UZLMM8pliYzv"
      },
      "execution_count": null,
      "outputs": []
    },
    {
      "cell_type": "code",
      "source": [
        "os.listdir(data +\"/Apple Braeburn\")\n"
      ],
      "metadata": {
        "id": "78UUILl0K2oX"
      },
      "execution_count": null,
      "outputs": []
    },
    {
      "cell_type": "code",
      "execution_count": null,
      "metadata": {
        "id": "-1J5tgUleJ8S"
      },
      "outputs": [],
      "source": [
        "training_data=[]\n",
        "def creating_training():\n",
        "  for i in category:\n",
        "    path=os.path.join(data,i)\n",
        "    class_num=category.index(i)\n",
        "    for img in os.listdir(path):\n",
        "      try:\n",
        "        img_array=cv2.imread(os.path.join(path,img))\n",
        "        img_array=cv2.cvtColor(img_array,cv2.COLOR_BGR2RGB)\n",
        "        plt.imshow(img_array)\n",
        "        new_array=cv2.resize(img_array,(50,50))\n",
        "        training_data.append([new_array,class_num])\n",
        "      except Exception as e:\n",
        "        pass\n",
        "creating_training()"
      ]
    },
    {
      "cell_type": "code",
      "source": [
        "import random\n",
        "random.shuffle(training_data)"
      ],
      "metadata": {
        "id": "f2ji_LOvlpd2"
      },
      "execution_count": null,
      "outputs": []
    },
    {
      "cell_type": "code",
      "source": [
        ""
      ],
      "metadata": {
        "id": "9qfJT5LqD_cE"
      },
      "execution_count": null,
      "outputs": []
    },
    {
      "cell_type": "code",
      "source": [
        "x=[]\n",
        "y=[]\n",
        "for features,labels in training_data:\n",
        "  x.append(features)\n",
        "  y.append(labels)\n",
        "\n",
        "x=np.array(x)\n",
        "x=np.array(x/255.0)\n",
        "y=np.array(y)"
      ],
      "metadata": {
        "id": "P-9Im7XYlx8R"
      },
      "execution_count": null,
      "outputs": []
    },
    {
      "cell_type": "code",
      "source": [
        "x.shape,y.shape,len(np.unique(y))"
      ],
      "metadata": {
        "id": "6tgXIVD3DHvw"
      },
      "execution_count": null,
      "outputs": []
    },
    {
      "cell_type": "code",
      "source": [
        "from tensorflow.keras.utils import to_categorical\n",
        "y = to_categorical(y, 24)"
      ],
      "metadata": {
        "id": "DSL76clpR6WV"
      },
      "execution_count": null,
      "outputs": []
    },
    {
      "cell_type": "code",
      "source": [
        "from keras.models import Sequential\n",
        "from keras.layers import Dense,Conv2D,Dropout,MaxPool2D,Flatten\n",
        "\n",
        "fmodel=Sequential()\n",
        "fmodel.add(Conv2D(filters=8,kernel_size=(5,5),padding=\"Same\",activation=\"relu\",input_shape=x.shape[1:]))\n",
        "fmodel.add(MaxPool2D(pool_size=(2,2)))\n",
        "fmodel.add(Dropout(0.25))\n",
        "fmodel.add(Conv2D(filters=16,kernel_size=(3,3),padding=\"Same\",activation=\"relu\"))\n",
        "fmodel.add(MaxPool2D(pool_size=(2,2),strides=(2,2)))\n",
        "fmodel.add(Dropout(0.25))\n",
        "fmodel.add(Flatten())\n",
        "fmodel.add(Dense(256,activation=\"relu\"))\n",
        "fmodel.add(Dropout(0.25))\n",
        "fmodel.add(Dense(24,activation=\"sigmoid\"))\n",
        "\n",
        "fmodel.compile(optimizer=\"adam\",loss=\"categorical_crossentropy\",metrics=[\"accuracy\"])"
      ],
      "metadata": {
        "id": "AmYuTcs_l18Q"
      },
      "execution_count": null,
      "outputs": []
    },
    {
      "cell_type": "code",
      "source": [
        "fmodel.fit(x,y,batch_size=100,epochs=10,validation_split=0.1)"
      ],
      "metadata": {
        "id": "EuMHlI4sRcTI"
      },
      "execution_count": null,
      "outputs": []
    },
    {
      "cell_type": "code",
      "source": [
        "model.save(\"/drive/My Drive/fmodel.h5\")\n"
      ],
      "metadata": {
        "id": "5w637jJk_NJe",
        "colab": {
          "base_uri": "https://localhost:8080/",
          "height": 236
        },
        "outputId": "70c63ee3-5388-4073-95ab-ae4be203325b"
      },
      "execution_count": null,
      "outputs": [
        {
          "output_type": "error",
          "ename": "NameError",
          "evalue": "ignored",
          "traceback": [
            "\u001b[0;31m---------------------------------------------------------------------------\u001b[0m",
            "\u001b[0;31mNameError\u001b[0m                                 Traceback (most recent call last)",
            "\u001b[0;32m<ipython-input-2-6deb45d78fcb>\u001b[0m in \u001b[0;36m<module>\u001b[0;34m()\u001b[0m\n\u001b[0;32m----> 1\u001b[0;31m \u001b[0mmodel\u001b[0m\u001b[0;34m.\u001b[0m\u001b[0msave\u001b[0m\u001b[0;34m(\u001b[0m\u001b[0;34m\"/drive/My Drive/fmodel.h5\"\u001b[0m\u001b[0;34m)\u001b[0m\u001b[0;34m\u001b[0m\u001b[0;34m\u001b[0m\u001b[0m\n\u001b[0m\u001b[1;32m      2\u001b[0m \u001b[0;32mimport\u001b[0m \u001b[0mnumpy\u001b[0m \u001b[0;32mas\u001b[0m \u001b[0mnp\u001b[0m\u001b[0;34m\u001b[0m\u001b[0;34m\u001b[0m\u001b[0m\n\u001b[1;32m      3\u001b[0m \u001b[0;32mimport\u001b[0m \u001b[0mkeras\u001b[0m\u001b[0;34m\u001b[0m\u001b[0;34m\u001b[0m\u001b[0m\n\u001b[1;32m      4\u001b[0m \u001b[0;32mimport\u001b[0m \u001b[0mcv2\u001b[0m\u001b[0;34m\u001b[0m\u001b[0;34m\u001b[0m\u001b[0m\n\u001b[1;32m      5\u001b[0m \u001b[0;32mimport\u001b[0m \u001b[0mmatplotlib\u001b[0m\u001b[0;34m.\u001b[0m\u001b[0mpyplot\u001b[0m \u001b[0;32mas\u001b[0m \u001b[0mplt\u001b[0m\u001b[0;34m\u001b[0m\u001b[0;34m\u001b[0m\u001b[0m\n",
            "\u001b[0;31mNameError\u001b[0m: name 'model' is not defined"
          ]
        }
      ]
    }
  ]
}